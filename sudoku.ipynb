{
 "cells": [
  {
   "cell_type": "code",
   "execution_count": 1,
   "metadata": {},
   "outputs": [],
   "source": [
    "from pulp import *"
   ]
  },
  {
   "cell_type": "markdown",
   "metadata": {},
   "source": [
    "## Creating Sudoku Solver Function"
   ]
  },
  {
   "cell_type": "code",
   "execution_count": 7,
   "metadata": {},
   "outputs": [],
   "source": [
    "def sudoku_solver(file_name, starting_numbers):\n",
    "    # A list of strings from \"1\" to \"9\" is created\n",
    "    Sequence = [\"1\", \"2\", \"3\", \"4\", \"5\", \"6\", \"7\", \"8\", \"9\"]\n",
    "\n",
    "    # The Vals, Rows and Cols sequences all follow this form\n",
    "    Vals = Sequence\n",
    "    Rows = Sequence\n",
    "    Cols = Sequence\n",
    "\n",
    "    # The boxes list is created, with the row and column index of each square in each box\n",
    "    Boxes =[]\n",
    "    for i in range(3):\n",
    "        for j in range(3):\n",
    "            Boxes += [[(Rows[3*i+k],Cols[3*j+l]) for k in range(3) for l in range(3)]]\n",
    "\n",
    "    # The prob variable is created to contain the problem data        \n",
    "    prob = LpProblem(\"Sudoku_Problem\",LpMinimize)\n",
    "\n",
    "    # The problem variables are created\n",
    "    choices = LpVariable.dicts(\"Choice\",(Vals,Rows,Cols),0,1,LpInteger)\n",
    "\n",
    "    # The arbitrary objective function is added\n",
    "    prob += 0, \"Arbitrary_Objective_Function\"\n",
    "\n",
    "    # A constraint ensuring that only one value can be in each square is created\n",
    "    for r in Rows:\n",
    "        for c in Cols:\n",
    "            prob += lpSum([choices[v][r][c] for v in Vals]) == 1, \"\"\n",
    "\n",
    "    # The row, column and box constraints are added for each value\n",
    "    for v in Vals:\n",
    "        for r in Rows:\n",
    "            prob += lpSum([choices[v][r][c] for c in Cols]) == 1,\"\"\n",
    "\n",
    "        for c in Cols:\n",
    "            prob += lpSum([choices[v][r][c] for r in Rows]) == 1,\"\"\n",
    "\n",
    "        for b in Boxes:\n",
    "            prob += lpSum([choices[v][r][c] for (r,c) in b]) == 1,\"\"\n",
    "\n",
    "    # Add starting numbers as constraints\n",
    "    for start_number in starting_numbers:\n",
    "        prob += choices[start_number[0]][start_number[1]][start_number[2]] == 1,\"\"\n",
    "\n",
    "    # The problem is solved using PuLP's choice of Solver\n",
    "    prob.solve()\n",
    "\n",
    "    # The status of the solution is printed to the screen\n",
    "    print(\"Status:\", LpStatus[prob.status])\n",
    "\n",
    "    # A file called sudokuout.txt is created/overwritten for writing to\n",
    "    sudokuout = open(f'{file_name}','w')\n",
    "\n",
    "    # The solution is written to the sudokuout.txt file \n",
    "    for r in Rows:\n",
    "        if r == \"1\" or r == \"4\" or r == \"7\":\n",
    "            sudokuout.write(\"+-------+-------+-------+\\n\")\n",
    "        for c in Cols:\n",
    "            for v in Vals:\n",
    "                if value(choices[v][r][c])==1:                       \n",
    "                    if c == \"1\" or c == \"4\" or c ==\"7\":\n",
    "                        sudokuout.write(\"| \")\n",
    "                    sudokuout.write(v + \" \")\n",
    "                    if c == \"9\":\n",
    "                        sudokuout.write(\"|\\n\")\n",
    "    sudokuout.write(\"+-------+-------+-------+\")                    \n",
    "    sudokuout.close()\n",
    "    print(f'Solution Written to {file_name}')"
   ]
  },
  {
   "cell_type": "code",
   "execution_count": 3,
   "metadata": {},
   "outputs": [
    {
     "name": "stdout",
     "output_type": "stream",
     "text": [
      "Status: Optimal\n",
      "Solution Written to test.txt\n"
     ]
    }
   ],
   "source": [
    "# value_row_column\n",
    "puzzle_params ={\n",
    "    \"file_name\": \"test.txt\",\n",
    "    \"starting_numbers\": [('5','3','1'),('1','1','1'),('2','6','1'),('7','9','1'),('9','3','2'),('9','4','3'),\n",
    "                        ('6','6','3'),('1','8','3'),('2','9','3'),('5','1','4'),('7','3','4'),('6','5','4'),\n",
    "                        ('8','7','4'),('3','4','5'),('8','6','5'),('4','3','6'),('1','5','6'),('2','7','6'),\n",
    "                        ('6','9','6'),('9','1','7'),('5','2','7'),('6','4','7'),('7','6','7'),('4','7','8'),\n",
    "                         ('2','1','9'),('1','4','9'),('7','7','9'),('8','9','9')]\n",
    "}\n",
    "sudoku_solver(**puzzle_params)"
   ]
  },
  {
   "cell_type": "code",
   "execution_count": 6,
   "metadata": {},
   "outputs": [
    {
     "name": "stdout",
     "output_type": "stream",
     "text": [
      "Status: Infeasible\n",
      "Solution Written to test2.txt\n"
     ]
    }
   ],
   "source": [
    "# value_row_column\n",
    "puzzle_params ={\n",
    "    \"file_name\": \"test2.txt\",\n",
    "    \"starting_numbers\": [('5','3','1')]\n",
    "}\n",
    "sudoku_solver(**puzzle_params)"
   ]
  },
  {
   "cell_type": "code",
   "execution_count": null,
   "metadata": {},
   "outputs": [],
   "source": []
  },
  {
   "cell_type": "code",
   "execution_count": null,
   "metadata": {},
   "outputs": [],
   "source": []
  },
  {
   "cell_type": "code",
   "execution_count": null,
   "metadata": {},
   "outputs": [],
   "source": []
  },
  {
   "cell_type": "code",
   "execution_count": null,
   "metadata": {},
   "outputs": [],
   "source": []
  },
  {
   "cell_type": "code",
   "execution_count": null,
   "metadata": {},
   "outputs": [],
   "source": []
  },
  {
   "cell_type": "code",
   "execution_count": null,
   "metadata": {},
   "outputs": [],
   "source": []
  }
 ],
 "metadata": {
  "kernelspec": {
   "display_name": "Python 3",
   "language": "python",
   "name": "python3"
  },
  "language_info": {
   "codemirror_mode": {
    "name": "ipython",
    "version": 3
   },
   "file_extension": ".py",
   "mimetype": "text/x-python",
   "name": "python",
   "nbconvert_exporter": "python",
   "pygments_lexer": "ipython3",
   "version": "3.7.4"
  }
 },
 "nbformat": 4,
 "nbformat_minor": 2
}
